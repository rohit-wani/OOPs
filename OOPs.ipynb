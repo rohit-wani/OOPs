{
  "nbformat": 4,
  "nbformat_minor": 0,
  "metadata": {
    "colab": {
      "provenance": []
    },
    "kernelspec": {
      "name": "python3",
      "display_name": "Python 3"
    },
    "language_info": {
      "name": "python"
    }
  },
  "cells": [
    {
      "cell_type": "markdown",
      "source": [
        "# OOPs"
      ],
      "metadata": {
        "id": "_1akZOsOx2Ey"
      }
    },
    {
      "cell_type": "markdown",
      "source": [
        "1. What is Object-Oriented Programming (OOP)?\n",
        "-  Object-Oriented Programming (OOP) is a programming paradigm based on the concept of \"objects\", which are instances of classes. It is designed to model real-world entities and their interactions by bundling data and behavior together.\n",
        "\n",
        "2. What is a class in OOP?\n",
        "-  In Object-Oriented Programming (OOP), a class is a blueprint or template for creating objects. It defines the attributes (data) and methods (behavior) that the objects created from the class will have.\n",
        "\n",
        "3. What is an object in OOP?\n",
        "-  In Object-Oriented Programming (OOP), an object is an instance of a class. It represents a real-world entity that has:\n",
        "\n",
        "Attributes (data/properties)\n",
        "\n",
        "Methods (functions/behaviors)\n",
        "\n",
        "An object is created based on a class and contains actual values instead of placeholders.\n",
        "\n",
        "4. What is the difference between abstraction and encapsulation?\n",
        "-  Abstraction hides complex implementation and shows only essential features to the user.\n",
        "\n",
        "- Encapsulation hides the internal state of an object and restricts direct access to it.\n",
        "\n",
        "5. What are dunder methods in Python?\n",
        "-  Dunder methods in Python (short for \"double underscore\" methods) are special methods with names that start and end with double underscores, like __init__, __str__, __len__, etc.\n",
        "\n",
        "6. Explain the concept of inheritance in OOP.\n",
        "-  Inheritance is a core concept in OOP that allows a class (child or subclass) to inherit attributes and methods from another class (parent or superclass).\n",
        "\n",
        "7. What is polymorphism in OOP?\n",
        "-  Polymorphism means \"many forms\" — it allows objects of different classes to be treated through a common interface, typically by using methods with the same name but different behaviors.\n",
        "\n",
        "8. How is encapsulation achieved in Python?\n",
        "-  Encapsulation in Python is achieved by:\n",
        "\n",
        "Bundling data (attributes) and methods inside a class\n",
        "\n",
        "Controlling access to that data using access modifiers\n",
        "\n",
        "9. What is a constructor in Python?\n",
        "-  A constructor in Python is a special method used to initialize a newly created object.\n",
        "In Python, the constructor method is named __init__().\n",
        "\n",
        "10. What are class and static methods in Python?\n",
        "-   Class methods take cls as the first parameter and can access/modify class state.\n",
        "Static methods don’t take self or cls and act like regular functions inside the class namespace.\n",
        "\n",
        "11. What is method overloading in Python?\n",
        "-   In Python, method overloading (having multiple methods with the same name but different parameters) is not directly supported like in some other languages.\n",
        "\n",
        "12. What is method overriding in OOP?\n",
        "-   Method overriding in OOP is when a subclass provides its own version of a method that is already defined in its parent class, allowing the subclass to modify or extend the behavior.\n",
        "\n",
        "13. What is a property decorator in Python?\n",
        "-   The @property decorator in Python is used to define a method that behaves like an attribute — allowing you to access a method like a regular attribute without parentheses.\n",
        "\n",
        "14. Why is polymorphism important in OOP?\n",
        "-   Polymorphism is important in OOP because it enables flexible and reusable code by allowing different objects to be treated through a common interface, letting methods behave differently based on the object’s class. This simplifies code maintenance, enhances scalability, and supports dynamic method binding.\n",
        "\n",
        "15. What is an abstract class in Python?\n",
        "-   An abstract class in Python is a class that cannot be instantiated on its own and is meant to be a base class for other classes. It typically contains one or more abstract methods—methods declared but without implementation—that must be overridden by subclasses.\n",
        "\n",
        "16. What are the advantages of OOP?\n",
        "-   Modularity — Code is organized into reusable objects, making it easier to manage and update.\n",
        "\n",
        "Reusability — Inheritance allows new classes to reuse existing code, reducing redundancy.\n",
        "\n",
        "Scalability — OOP makes it easier to scale and extend programs with new features.\n",
        "\n",
        "Maintainability — Encapsulation hides internal details, simplifying debugging and updates.\n",
        "\n",
        "Flexibility — Polymorphism enables using a single interface for different data types or classes.\n",
        "\n",
        "Real-world Modeling — Objects represent real-world entities, making designs intuitive and clear.\n",
        "\n",
        "17. What is the difference between a class variable and an instance variable?\n",
        "-   Class variable is shared by all instances of the class — there’s only one copy, defined at the class level.\n",
        "\n",
        "Instance variable is unique to each object — each instance has its own separate copy\n",
        "\n",
        "18. What is multiple inheritance in Python?\n",
        "-   Multiple inheritance in Python is when a class inherits from more than one parent class at the same time, allowing it to combine behaviors and attributes from all those parents.\n",
        "\n",
        "19. Explain the purpose of ‘’__str__’ and ‘__repr__’ ‘ methods in Python.\n",
        "-   Great question! Both __str__ and __repr__ are special dunder methods in Python used to define how objects are represented as strings, but they serve slightly different purposes.\n",
        "\n",
        "20. What is the significance of the ‘super()’ function in Python?\n",
        "-   Both __str__ and __repr__ are special dunder methods in Python used to define how objects are represented as strings, but they serve slightly different purposes:\n",
        "__repr__\n",
        "Intended to provide an official, unambiguous string representation of the object, ideally one that could be used to recreate the object.\n",
        "\n",
        "Used mainly for debugging and development.\n",
        "\n",
        "If you print a list of objects, Python calls each object's __repr__.\n",
        "\n",
        "__str__\n",
        "Intended to provide a readable, user-friendly string representation of the object.\n",
        "\n",
        "Used by the print() function and str() constructor.\n",
        "\n",
        "21. What is the significance of the __del__ method in Python?\n",
        "-   The __del__ method in Python is a destructor—a special method that is called when an object is about to be destroyed (i.e., when its reference count drops to zero and it’s garbage collected).\n",
        "\n",
        "22. What is the difference between @staticmethod and @classmethod in Python?\n",
        "-   @staticmethod defines a method that doesn’t access the class or instance and acts like a regular function inside a class.\n",
        "@classmethod takes the class (cls) as the first argument and can access or modify class state.\n",
        "\n",
        "23. How does polymorphism work in Python with inheritance?\n",
        "-   In Python, polymorphism allows methods in different classes related by inheritance to have the same name but behave differently. When you call a method on an object, Python uses the actual object's class method (not the parent’s), enabling dynamic method overriding.\n",
        "\n",
        "24. What is method chaining in Python OOP?\n",
        "-   Method chaining in Python OOP is a technique where multiple methods are called sequentially on the same object in a single line because each method returns the object itself (self). This allows for concise and readable code.\n",
        "\n",
        "25. What is the purpose of the __call__ method in Python?\n",
        "-   The __call__ method in Python allows an instance of a class to be called like a function. When you define __call__ in a class, you can use its objects with parentheses () and pass arguments, triggering the __call__ method.\n"
      ],
      "metadata": {
        "id": "iXzlY2n9yTvj"
      }
    },
    {
      "cell_type": "code",
      "source": [
        "# 1. Create a parent class Animal with a method speak() that prints a generic message. Create a child class Dog\n",
        "# that overrides the speak() method to print \"Bark!\".\n",
        "# Parent class\n",
        "class Animal:\n",
        "    def speak(self):\n",
        "        print(\"Some generic animal sound\")\n",
        "\n",
        "# Child class\n",
        "class Dog(Animal):\n",
        "    def speak(self):\n",
        "        print(\"Bark!\")\n",
        "\n",
        "# Example usage\n",
        "a = Animal()\n",
        "a.speak()  # Output: Some generic animal sound\n",
        "\n",
        "d = Dog()\n",
        "d.speak()  # Output: Bark!\n"
      ],
      "metadata": {
        "id": "yzmAsRcnyiBJ",
        "colab": {
          "base_uri": "https://localhost:8080/"
        },
        "outputId": "02348303-9ab5-4763-b13e-7fbf5708151f"
      },
      "execution_count": 2,
      "outputs": [
        {
          "output_type": "stream",
          "name": "stdout",
          "text": [
            "Some generic animal sound\n",
            "Bark!\n"
          ]
        }
      ]
    },
    {
      "cell_type": "code",
      "execution_count": 3,
      "metadata": {
        "id": "MFGtZs8IxtK9",
        "colab": {
          "base_uri": "https://localhost:8080/"
        },
        "outputId": "be3ca781-66e9-490d-c63d-74471512ec8e"
      },
      "outputs": [
        {
          "output_type": "stream",
          "name": "stdout",
          "text": [
            "Area of circle: 78.54\n",
            "Area of rectangle: 24\n"
          ]
        }
      ],
      "source": [
        "# 2. Write a program to create an abstract class Shape with a method area(). Derive classes Circle and Rectangle\n",
        "# from it and implement the area() method in both.\n",
        "from abc import ABC, abstractmethod\n",
        "\n",
        "from abc import ABC, abstractmethod\n",
        "import math\n",
        "\n",
        "# Abstract base class\n",
        "class Shape(ABC):\n",
        "    @abstractmethod\n",
        "    def area(self):\n",
        "        pass\n",
        "\n",
        "# Derived class for Circle\n",
        "class Circle(Shape):\n",
        "    def __init__(self, radius):\n",
        "        self.radius = radius\n",
        "\n",
        "    def area(self):\n",
        "        return math.pi * self.radius ** 2\n",
        "\n",
        "# Derived class for Rectangle\n",
        "class Rectangle(Shape):\n",
        "    def __init__(self, width, height):\n",
        "        self.width = width\n",
        "        self.height = height\n",
        "\n",
        "    def area(self):\n",
        "        return self.width * self.height\n",
        "\n",
        "# Example usage\n",
        "circle = Circle(5)\n",
        "print(f\"Area of circle: {circle.area():.2f}\")\n",
        "\n",
        "rectangle = Rectangle(4, 6)\n",
        "print(f\"Area of rectangle: {rectangle.area()}\")\n"
      ]
    },
    {
      "cell_type": "code",
      "source": [
        "# 3. Implement a multi-level inheritance scenario where a class Vehicle has an attribute type. Derive a class Car\n",
        "# and further derive a class ElectricCar that adds a battery attribute.\n",
        "# Base class\n",
        "class Vehicle:\n",
        "    def __init__(self, vehicle_type):\n",
        "        self.vehicle_type = vehicle_type\n",
        "\n",
        "    def display_info(self):\n",
        "        print(f\"Vehicle Type: {self.vehicle_type}\")\n",
        "\n",
        "# First-level derived class\n",
        "class Car(Vehicle):\n",
        "    def __init__(self, vehicle_type, brand):\n",
        "        super().__init__(vehicle_type)\n",
        "        self.brand = brand\n",
        "\n",
        "    def display_info(self):\n",
        "        super().display_info()\n",
        "        print(f\"Brand: {self.brand}\")\n",
        "\n",
        "# Second-level derived class\n",
        "class ElectricCar(Car):\n",
        "    def __init__(self, vehicle_type, brand, battery_capacity):\n",
        "        super().__init__(vehicle_type, brand)\n",
        "        self.battery_capacity = battery_capacity\n",
        "\n",
        "    def display_info(self):\n",
        "        super().display_info()\n",
        "        print(f\"Battery Capacity: {self.battery_capacity} kWh\")\n",
        "\n",
        "# Example usage\n",
        "e_car = ElectricCar(\"Car\", \"Tesla\", 75)\n",
        "e_car.display_info()\n",
        "\n"
      ],
      "metadata": {
        "id": "3BAnjfX4xz8P",
        "colab": {
          "base_uri": "https://localhost:8080/"
        },
        "outputId": "a2cfeb62-4d8e-4ff0-838b-98439f343ddd"
      },
      "execution_count": 4,
      "outputs": [
        {
          "output_type": "stream",
          "name": "stdout",
          "text": [
            "Vehicle Type: Car\n",
            "Brand: Tesla\n",
            "Battery Capacity: 75 kWh\n"
          ]
        }
      ]
    },
    {
      "cell_type": "code",
      "source": [
        "# 4. Demonstrate polymorphism by creating a base class Bird with a method fly(). Create two derived classes\n",
        "# Sparrow and Penguin that override the fly() method.\n",
        "# Base class\n",
        "class Bird:\n",
        "    def fly(self):\n",
        "        print(\"Bird is flying\")\n",
        "\n",
        "# Derived class Sparrow\n",
        "class Sparrow(Bird):\n",
        "    def fly(self):\n",
        "        print(\"Sparrow can fly high\")\n",
        "\n",
        "# Derived class Penguin\n",
        "class Penguin(Bird):\n",
        "    def fly(self):\n",
        "        print(\"Penguins can't fly, but they can swim\")\n",
        "\n",
        "# Function to demonstrate polymorphism\n",
        "def show_flight(bird):\n",
        "    bird.fly()\n",
        "\n",
        "# Example usage\n",
        "sparrow = Sparrow()\n",
        "penguin = Penguin()\n",
        "\n",
        "show_flight(sparrow)  # Output: Sparrow can fly high\n",
        "show_flight(penguin)  # Output: Penguins can't fly, but they can swim\n",
        "\n"
      ],
      "metadata": {
        "id": "z7Mct7whGzdi",
        "colab": {
          "base_uri": "https://localhost:8080/"
        },
        "outputId": "f6133201-9779-4824-b38d-8ed60a85a043"
      },
      "execution_count": 5,
      "outputs": [
        {
          "output_type": "stream",
          "name": "stdout",
          "text": [
            "Sparrow can fly high\n",
            "Penguins can't fly, but they can swim\n"
          ]
        }
      ]
    },
    {
      "cell_type": "code",
      "source": [
        "# 5. Write a program to demonstrate encapsulation by creating a class BankAccount with private attributes\n",
        "# balance and methods to deposit, withdraw, and check balance.\n",
        "class BankAccount:\n",
        "    def __init__(self, initial_balance=0):\n",
        "        # Private attribute\n",
        "        self.__balance = initial_balance\n",
        "\n",
        "    # Method to deposit money\n",
        "    def deposit(self, amount):\n",
        "        if amount > 0:\n",
        "            self.__balance += amount\n",
        "            print(f\"Deposited ${amount}.\")\n",
        "        else:\n",
        "            print(\"Deposit amount must be positive.\")\n",
        "\n",
        "    # Method to withdraw money\n",
        "    def withdraw(self, amount):\n",
        "        if amount <= 0:\n",
        "            print(\"Withdrawal amount must be positive.\")\n",
        "        elif amount > self.__balance:\n",
        "            print(\"Insufficient balance.\")\n",
        "        else:\n",
        "            self.__balance -= amount\n",
        "            print(f\"Withdrew ${amount}.\")\n",
        "\n",
        "    # Method to check balance\n",
        "    def check_balance(self):\n",
        "        print(f\"Current balance: ${self.__balance}\")\n",
        "\n",
        "# Example usage\n",
        "if __name__ == \"__main__\":\n",
        "    account = BankAccount(100)  # Create an account with $100 initial balance\n",
        "    account.check_balance()     # Show balance\n",
        "    account.deposit(50)         # Deposit $50\n",
        "    account.withdraw(30)        # Withdraw $30\n",
        "    account.withdraw(150)       # Attempt to withdraw too much\n",
        "    account.check_balance()     # Final balance\n",
        "\n"
      ],
      "metadata": {
        "id": "PNt6l-2vJRv4",
        "colab": {
          "base_uri": "https://localhost:8080/"
        },
        "outputId": "77210839-0e08-4a12-83fb-7d385f1cc20e"
      },
      "execution_count": 3,
      "outputs": [
        {
          "output_type": "stream",
          "name": "stdout",
          "text": [
            "Current balance: $100\n",
            "Deposited $50.\n",
            "Withdrew $30.\n",
            "Insufficient balance.\n",
            "Current balance: $120\n"
          ]
        }
      ]
    },
    {
      "cell_type": "code",
      "source": [
        "# 6.  Demonstrate runtime polymorphism using a method play() in a base class Instrument. Derive classes Guitar\n",
        "# and Piano that implement their own version of play().\n",
        "# Base class\n",
        "class Instrument:\n",
        "    def play(self):\n",
        "        print(\"Playing an instrument\")\n",
        "\n",
        "# Derived class: Guitar\n",
        "class Guitar(Instrument):\n",
        "    def play(self):\n",
        "        print(\"Strumming the guitar\")\n",
        "\n",
        "# Derived class: Piano\n",
        "class Piano(Instrument):\n",
        "    def play(self):\n",
        "        print(\"Playing the piano\")\n",
        "\n",
        "# Function to demonstrate runtime polymorphism\n",
        "def perform(instrument: Instrument):\n",
        "    instrument.play()\n",
        "\n",
        "# Example usage\n",
        "if __name__ == \"__main__\":\n",
        "    inst = Instrument()\n",
        "    gtr = Guitar()\n",
        "    pno = Piano()\n",
        "\n",
        "    # Runtime polymorphism in action\n",
        "    perform(inst)  # Calls Instrument's play()\n",
        "    perform(gtr)   # Calls Guitar's play()\n",
        "    perform(pno)   # Calls Piano's play()\n"
      ],
      "metadata": {
        "id": "nfUDKlBgJXtx",
        "colab": {
          "base_uri": "https://localhost:8080/"
        },
        "outputId": "4357caae-1395-4560-b4c8-8bccef7a58e0"
      },
      "execution_count": 4,
      "outputs": [
        {
          "output_type": "stream",
          "name": "stdout",
          "text": [
            "Playing an instrument\n",
            "Strumming the guitar\n",
            "Playing the piano\n"
          ]
        }
      ]
    },
    {
      "cell_type": "code",
      "source": [
        "# 7. Create a class MathOperations with a class method add_numbers() to add two numbers and a static\n",
        "# method subtract_numbers() to subtract two numbers\n",
        "class MathOperations:\n",
        "    # Class method to add two numbers\n",
        "    @classmethod\n",
        "    def add_numbers(cls, a, b):\n",
        "        return a + b\n",
        "\n",
        "    # Static method to subtract two numbers\n",
        "    @staticmethod\n",
        "    def subtract_numbers(a, b):\n",
        "        return a - b\n",
        "\n",
        "# Example usage\n",
        "if __name__ == \"__main__\":\n",
        "    # Using class method\n",
        "    sum_result = MathOperations.add_numbers(10, 5)\n",
        "    print(f\"Sum: {sum_result}\")\n",
        "\n",
        "    # Using static method\n",
        "    diff_result = MathOperations.subtract_numbers(10, 5)\n",
        "    print(f\"Difference: {diff_result}\")\n"
      ],
      "metadata": {
        "id": "VKgCKCR_JcJY",
        "colab": {
          "base_uri": "https://localhost:8080/"
        },
        "outputId": "48f11a96-44a8-4507-b692-82378d9097b6"
      },
      "execution_count": 5,
      "outputs": [
        {
          "output_type": "stream",
          "name": "stdout",
          "text": [
            "Sum: 15\n",
            "Difference: 5\n"
          ]
        }
      ]
    },
    {
      "cell_type": "code",
      "source": [
        "# 8.  Implement a class Person with a class method to count the total number of persons created.\n",
        "class Person:\n",
        "    # Class attribute to track number of persons\n",
        "    __person_count = 0\n",
        "\n",
        "    def __init__(self, name):\n",
        "        self.name = name\n",
        "        Person.__person_count += 1\n",
        "\n",
        "    # Class method to return total number of persons created\n",
        "    @classmethod\n",
        "    def get_person_count(cls):\n",
        "        return cls.__person_count\n",
        "\n",
        "# Example usage\n",
        "if __name__ == \"__main__\":\n",
        "    p1 = Person(\"Alice\")\n",
        "    p2 = Person(\"Bob\")\n",
        "    p3 = Person(\"Charlie\")\n",
        "\n",
        "    print(f\"Total persons created: {Person.get_person_count()}\")\n"
      ],
      "metadata": {
        "id": "sTjWdmvCJh4K",
        "colab": {
          "base_uri": "https://localhost:8080/"
        },
        "outputId": "6443d8ee-f279-4cc1-b549-622117d1d172"
      },
      "execution_count": 6,
      "outputs": [
        {
          "output_type": "stream",
          "name": "stdout",
          "text": [
            "Total persons created: 3\n"
          ]
        }
      ]
    },
    {
      "cell_type": "code",
      "source": [
        "# 9.  Write a class Fraction with attributes numerator and denominator. Override the str method to display the\n",
        "# fraction as \"numerator/denominator\".\n",
        "class Fraction:\n",
        "    def __init__(self, numerator, denominator):\n",
        "        if denominator == 0:\n",
        "            raise ValueError(\"Denominator cannot be zero.\")\n",
        "        self.numerator = numerator\n",
        "        self.denominator = denominator\n",
        "\n",
        "    # Override the str() method\n",
        "    def __str__(self):\n",
        "        return f\"{self.numerator}/{self.denominator}\"\n",
        "\n",
        "# Example usage\n",
        "if __name__ == \"__main__\":\n",
        "    f1 = Fraction(3, 4)\n",
        "    f2 = Fraction(5, 2)\n",
        "\n",
        "    print(f\"Fraction 1: {f1}\")\n",
        "    print(f\"Fraction 2: {f2}\")\n"
      ],
      "metadata": {
        "id": "u_zYvj00JpLM",
        "colab": {
          "base_uri": "https://localhost:8080/"
        },
        "outputId": "f223c065-03a8-49bf-bca9-32cab7b00d87"
      },
      "execution_count": 7,
      "outputs": [
        {
          "output_type": "stream",
          "name": "stdout",
          "text": [
            "Fraction 1: 3/4\n",
            "Fraction 2: 5/2\n"
          ]
        }
      ]
    },
    {
      "cell_type": "code",
      "source": [
        "# 10. Demonstrate operator overloading by creating a class Vector and overriding the add method to add two\n",
        "# vectors.\n",
        "class Vector:\n",
        "    def __init__(self, x, y):\n",
        "        self.x = x\n",
        "        self.y = y\n",
        "\n",
        "    # Overload the + operator\n",
        "    def __add__(self, other):\n",
        "        if isinstance(other, Vector):\n",
        "            return Vector(self.x + other.x, self.y + other.y)\n",
        "        return NotImplemented\n",
        "\n",
        "    # For a readable string representation\n",
        "    def __str__(self):\n",
        "        return f\"Vector({self.x}, {self.y})\"\n",
        "\n",
        "# Example usage\n",
        "if __name__ == \"__main__\":\n",
        "    v1 = Vector(2, 3)\n",
        "    v2 = Vector(4, 5)\n",
        "\n",
        "    v3 = v1 + v2  # Calls v1.__add__(v2)\n",
        "\n",
        "    print(f\"Vector 1: {v1}\")\n",
        "    print(f\"Vector 2: {v2}\")\n",
        "    print(f\"Sum: {v3}\")\n",
        "\n"
      ],
      "metadata": {
        "id": "GNK5I79AJ1tm",
        "colab": {
          "base_uri": "https://localhost:8080/"
        },
        "outputId": "ce887352-128b-435a-e68e-69886f044c6a"
      },
      "execution_count": 8,
      "outputs": [
        {
          "output_type": "stream",
          "name": "stdout",
          "text": [
            "Vector 1: Vector(2, 3)\n",
            "Vector 2: Vector(4, 5)\n",
            "Sum: Vector(6, 8)\n"
          ]
        }
      ]
    },
    {
      "cell_type": "code",
      "source": [
        "# 11. Create a class Person with attributes name and age. Add a method greet() that prints \"Hello, my name is\n",
        "#     {name} and I am {age} years old.\"\n",
        "class Person:\n",
        "    def __init__(self, name, age):\n",
        "        self.name = name\n",
        "        self.age = age\n",
        "\n",
        "    # Method to print a greeting\n",
        "    def greet(self):\n",
        "        print(f\"Hello, my name is {self.name} and I am {self.age} years old.\")\n",
        "\n",
        "# Example usage\n",
        "if __name__ == \"__main__\":\n",
        "    person1 = Person(\"Alice\", 30)\n",
        "    person2 = Person(\"Bob\", 25)\n",
        "\n",
        "    person1.greet()\n",
        "    person2.greet()\n"
      ],
      "metadata": {
        "id": "orss3B2jKBz-",
        "colab": {
          "base_uri": "https://localhost:8080/"
        },
        "outputId": "4dbc7f5d-6a17-4ff9-8194-a55fecf95fc3"
      },
      "execution_count": 10,
      "outputs": [
        {
          "output_type": "stream",
          "name": "stdout",
          "text": [
            "Hello, my name is Alice and I am 30 years old.\n",
            "Hello, my name is Bob and I am 25 years old.\n"
          ]
        }
      ]
    },
    {
      "cell_type": "code",
      "source": [
        "# 12. Implement a class Student with attributes name and grades. Create a method average_grade() to compute\n",
        "# the average of the grades.\n",
        "class Student:\n",
        "    def __init__(self, name, grades):\n",
        "        self.name = name\n",
        "        self.grades = grades  # List of grades\n",
        "\n",
        "    # Method to calculate average grade\n",
        "    def average_grade(self):\n",
        "        if not self.grades:\n",
        "            return 0  # Avoid division by zero\n",
        "        return sum(self.grades) / len(self.grades)\n",
        "\n",
        "# Example usage\n",
        "if __name__ == \"__main__\":\n",
        "    student1 = Student(\"Alice\", [85, 90, 78, 92])\n",
        "    student2 = Student(\"Bob\", [70, 75, 80])\n",
        "\n",
        "    print(f\"{student1.name}'s average grade: {student1.average_grade():.2f}\")\n",
        "    print(f\"{student2.name}'s average grade: {student2.average_grade():.2f}\")\n"
      ],
      "metadata": {
        "id": "1GKGxstyKP1K",
        "colab": {
          "base_uri": "https://localhost:8080/"
        },
        "outputId": "7d9c91a0-4d26-4bd2-cc70-4ac2ff6bb52b"
      },
      "execution_count": 11,
      "outputs": [
        {
          "output_type": "stream",
          "name": "stdout",
          "text": [
            "Alice's average grade: 86.25\n",
            "Bob's average grade: 75.00\n"
          ]
        }
      ]
    },
    {
      "cell_type": "code",
      "source": [
        "# 13.  Create a class Rectangle with methods set_dimensions() to set the dimensions and area() to calculate the area.\n",
        "class Rectangle:\n",
        "    def __init__(self):\n",
        "        self.length = 0\n",
        "        self.width = 0\n",
        "\n",
        "    # Method to set dimensions\n",
        "    def set_dimensions(self, length, width):\n",
        "        if length <= 0 or width <= 0:\n",
        "            raise ValueError(\"Length and width must be positive numbers.\")\n",
        "        self.length = length\n",
        "        self.width = width\n",
        "\n",
        "    # Method to calculate area\n",
        "    def area(self):\n",
        "        return self.length * self.width\n",
        "\n",
        "# Example usage\n",
        "if __name__ == \"__main__\":\n",
        "    rect = Rectangle()\n",
        "    rect.set_dimensions(5, 3)\n",
        "    print(f\"Area of the rectangle: {rect.area()}\")\n"
      ],
      "metadata": {
        "id": "feVTQCGrKZGZ",
        "colab": {
          "base_uri": "https://localhost:8080/"
        },
        "outputId": "c51ce260-78e7-40b6-b253-c233cc1cadc1"
      },
      "execution_count": 12,
      "outputs": [
        {
          "output_type": "stream",
          "name": "stdout",
          "text": [
            "Area of the rectangle: 15\n"
          ]
        }
      ]
    },
    {
      "cell_type": "code",
      "source": [
        "# 14.  Create a class Employee with a method calculate_salary() that computes the salary based on hours worked\n",
        "# and hourly rate. Create a derived class Manager that adds a bonus to the salary.\n",
        "# Base class\n",
        "class Employee:\n",
        "    def __init__(self, name, hours_worked, hourly_rate):\n",
        "        self.name = name\n",
        "        self.hours_worked = hours_worked\n",
        "        self.hourly_rate = hourly_rate\n",
        "\n",
        "    # Method to calculate salary\n",
        "    def calculate_salary(self):\n",
        "        return self.hours_worked * self.hourly_rate\n",
        "\n",
        "# Derived class\n",
        "class Manager(Employee):\n",
        "    def __init__(self, name, hours_worked, hourly_rate, bonus):\n",
        "        super().__init__(name, hours_worked, hourly_rate)\n",
        "        self.bonus = bonus\n",
        "\n",
        "    # Overridden method to include bonus\n",
        "    def calculate_salary(self):\n",
        "        base_salary = super().calculate_salary()\n",
        "        return base_salary + self.bonus\n",
        "\n",
        "# Example usage\n",
        "if __name__ == \"__main__\":\n",
        "    emp = Employee(\"Alice\", 40, 25)  # Regular employee\n",
        "    mgr = Manager(\"Bob\", 45, 30, 500)  # Manager with bonus\n",
        "\n",
        "    print(f\"{emp.name}'s salary: ${emp.calculate_salary()}\")\n",
        "    print(f\"{mgr.name}'s salary (with bonus): ${mgr.calculate_salary()}\")\n"
      ],
      "metadata": {
        "id": "NLKHx2V0KtGS",
        "colab": {
          "base_uri": "https://localhost:8080/"
        },
        "outputId": "b7dee614-0d85-4a4b-9287-a3d459d3077e"
      },
      "execution_count": 13,
      "outputs": [
        {
          "output_type": "stream",
          "name": "stdout",
          "text": [
            "Alice's salary: $1000\n",
            "Bob's salary (with bonus): $1850\n"
          ]
        }
      ]
    },
    {
      "cell_type": "code",
      "source": [
        "# 15.  Create a class Product with attributes name, price, and quantity. Implement a method total_price() that\n",
        "# calculates the total price of the product.\n",
        "class Product:\n",
        "    def __init__(self, name, price, quantity):\n",
        "        self.name = name\n",
        "        self.price = price\n",
        "        self.quantity = quantity\n",
        "\n",
        "    # Method to calculate total price\n",
        "    def total_price(self):\n",
        "        return self.price * self.quantity\n",
        "\n",
        "# Example usage\n",
        "if __name__ == \"__main__\":\n",
        "    product1 = Product(\"Laptop\", 800.00, 2)\n",
        "    product2 = Product(\"Phone\", 500.00, 3)\n",
        "\n",
        "    print(f\"Total price for {product1.name}s: ${product1.total_price():.2f}\")\n",
        "    print(f\"Total price for {product2.name}s: ${product2.total_price():.2f}\")\n"
      ],
      "metadata": {
        "id": "g3X0tWupK0Qo",
        "colab": {
          "base_uri": "https://localhost:8080/"
        },
        "outputId": "f440e156-a40d-4aff-e788-988df9e8987c"
      },
      "execution_count": 14,
      "outputs": [
        {
          "output_type": "stream",
          "name": "stdout",
          "text": [
            "Total price for Laptops: $1600.00\n",
            "Total price for Phones: $1500.00\n"
          ]
        }
      ]
    },
    {
      "cell_type": "code",
      "source": [
        "# 16. Create a class Animal with an abstract method sound(). Create two derived classes Cow and Sheep that\n",
        "# implement the sound() method.\n",
        "from abc import ABC, abstractmethod\n",
        "\n",
        "# Abstract base class\n",
        "class Animal(ABC):\n",
        "    @abstractmethod\n",
        "    def sound(self):\n",
        "        pass\n",
        "\n",
        "# Derived class: Cow\n",
        "class Cow(Animal):\n",
        "    def sound(self):\n",
        "        return \"Moo\"\n",
        "\n",
        "# Derived class: Sheep\n",
        "class Sheep(Animal):\n",
        "    def sound(self):\n",
        "        return \"Baa\"\n",
        "\n",
        "# Example usage\n",
        "if __name__ == \"__main__\":\n",
        "    cow = Cow()\n",
        "    sheep = Sheep()\n",
        "\n",
        "    print(f\"Cow says: {cow.sound()}\")\n",
        "    print(f\"Sheep says: {sheep.sound()}\")\n"
      ],
      "metadata": {
        "id": "DlQ-R8dDK5lL",
        "colab": {
          "base_uri": "https://localhost:8080/"
        },
        "outputId": "c4a5fc9c-9c14-4cd3-ef33-f4a811129713"
      },
      "execution_count": 15,
      "outputs": [
        {
          "output_type": "stream",
          "name": "stdout",
          "text": [
            "Cow says: Moo\n",
            "Sheep says: Baa\n"
          ]
        }
      ]
    },
    {
      "cell_type": "code",
      "source": [
        "# 17.  Create a class Book with attributes title, author, and year_published. Add a method get_book_info() that\n",
        "# returns a formatted string with the book's details.\n",
        "class Book:\n",
        "    def __init__(self, title, author, year_published):\n",
        "        self.title = title\n",
        "        self.author = author\n",
        "        self.year_published = year_published\n",
        "\n",
        "    # Method to return formatted book information\n",
        "    def get_book_info(self):\n",
        "        return f\"'{self.title}' by {self.author}, published in {self.year_published}\"\n",
        "\n",
        "# Example usage\n",
        "if __name__ == \"__main__\":\n",
        "    book1 = Book(\"To Kill a Mockingbird\", \"Harper Lee\", 1960)\n",
        "    book2 = Book(\"1984\", \"George Orwell\", 1949)\n",
        "\n",
        "    print(book1.get_book_info())\n",
        "    print(book2.get_book_info())\n"
      ],
      "metadata": {
        "id": "FI-vlAk-MhAy",
        "colab": {
          "base_uri": "https://localhost:8080/"
        },
        "outputId": "2d5923d8-5019-476b-84fb-8862b3e86931"
      },
      "execution_count": 16,
      "outputs": [
        {
          "output_type": "stream",
          "name": "stdout",
          "text": [
            "'To Kill a Mockingbird' by Harper Lee, published in 1960\n",
            "'1984' by George Orwell, published in 1949\n"
          ]
        }
      ]
    },
    {
      "cell_type": "code",
      "source": [
        "# 18.  Create a class House with attributes address and price. Create a derived class Mansion that adds an\n",
        "# attribute number_of_rooms.\n",
        "# Base class\n",
        "class House:\n",
        "    def __init__(self, address, price):\n",
        "        self.address = address\n",
        "        self.price = price\n",
        "\n",
        "    def get_info(self):\n",
        "        return f\"Address: {self.address}, Price: ${self.price}\"\n",
        "\n",
        "# Derived class\n",
        "class Mansion(House):\n",
        "    def __init__(self, address, price, number_of_rooms):\n",
        "        super().__init__(address, price)  # Initialize base class attributes\n",
        "        self.number_of_rooms = number_of_rooms\n",
        "\n",
        "    def get_info(self):\n",
        "        base_info = super().get_info()\n",
        "        return f\"{base_info}, Rooms: {self.number_of_rooms}\"\n",
        "\n",
        "# Example usage\n",
        "if __name__ == \"__main__\":\n",
        "    house = House(\"123 Main St\", 250000)\n",
        "    mansion = Mansion(\"456 Luxury Ave\", 2000000, 12)\n",
        "\n",
        "    print(\"House Info:\")\n",
        "    print(house.get_info())\n",
        "\n",
        "    print(\"\\nMansion Info:\")\n",
        "    print(mansion.get_info())\n",
        "\n"
      ],
      "metadata": {
        "id": "COfdtHuYMltB",
        "colab": {
          "base_uri": "https://localhost:8080/"
        },
        "outputId": "3f8d83ec-0b91-4204-dcdf-fea7e914c03d"
      },
      "execution_count": 17,
      "outputs": [
        {
          "output_type": "stream",
          "name": "stdout",
          "text": [
            "House Info:\n",
            "Address: 123 Main St, Price: $250000\n",
            "\n",
            "Mansion Info:\n",
            "Address: 456 Luxury Ave, Price: $2000000, Rooms: 12\n"
          ]
        }
      ]
    }
  ]
}